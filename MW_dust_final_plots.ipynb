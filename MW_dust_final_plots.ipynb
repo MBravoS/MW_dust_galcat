{
 "cells": [
  {
   "cell_type": "code",
   "execution_count": null,
   "metadata": {},
   "outputs": [],
   "source": [
    "import glob\n",
    "#import math\n",
    "import cmocean\n",
    "import h5py as h5\n",
    "import numpy as np\n",
    "import pandas as pd\n",
    "import splotch as sp\n",
    "import cmocean as cmo\n",
    "import matplotlib.cm as cm\n",
    "#import scipy.stats as stats\n",
    "import scipy.optimize as opti\n",
    "#import matplotlib.colors as col\n",
    "import matplotlib.lines as lines\n",
    "import matplotlib.pyplot as plot\n",
    "import matplotlib.gridspec as gs\n",
    "import scipy.interpolate as interp\n",
    "import matplotlib.patches as patches\n",
    "from matplotlib.legend_handler import HandlerTuple\n",
    "%matplotlib inline"
   ]
  },
  {
   "cell_type": "code",
   "execution_count": null,
   "metadata": {},
   "outputs": [],
   "source": [
    "sp.use_style('/home/mbravo/Documents/pypati.style')\n",
    "new_fig_size=np.array(plot.rcParams.get('figure.figsize'))"
   ]
  },
  {
   "cell_type": "markdown",
   "metadata": {},
   "source": [
    "# Defining functions"
   ]
  },
  {
   "cell_type": "code",
   "execution_count": null,
   "metadata": {},
   "outputs": [],
   "source": []
  },
  {
   "cell_type": "code",
   "execution_count": null,
   "metadata": {},
   "outputs": [],
   "source": []
  },
  {
   "cell_type": "code",
   "execution_count": null,
   "metadata": {},
   "outputs": [],
   "source": []
  },
  {
   "cell_type": "markdown",
   "metadata": {},
   "source": [
    "## Metric measurement"
   ]
  },
  {
   "cell_type": "code",
   "execution_count": null,
   "metadata": {},
   "outputs": [],
   "source": [
    "def slope_func(dust_comp,ebvmap,dusted=False):\n",
    "    if dusted:\n",
    "        dust_comp['deltaEBV']=dust_comp['EBV']\n",
    "        temp=dust_comp.loc[dust_comp['deltaEBV']<0.1]\n",
    "    else:\n",
    "        dust_comp['deltaEBV']=dust_comp['EBV']-np.median(ebvmap)\n",
    "        temp=dust_comp.loc[(dust_comp['deltaEBV']>-0.05)&(dust_comp['deltaEBV']<0.05)]\n",
    "    max_debv=temp['deltaEBV']==np.max(temp['deltaEBV'])\n",
    "    min_debv=temp['deltaEBV']==np.min(temp['deltaEBV'])\n",
    "    cen_debv=np.abs(temp['deltaEBV'])==np.min(np.abs(temp['deltaEBV']))\n",
    "    \n",
    "    md=(float(temp.loc[max_debv,'delta'])-float(temp.loc[min_debv,'delta']))/0.1\n",
    "    mm=(float(temp.loc[max_debv,'mag'])-float(temp.loc[min_debv,'mag']))/0.1\n",
    "    mc=(float(temp.loc[max_debv,'col'])-float(temp.loc[min_debv,'col']))/0.1\n",
    "    \n",
    "    dust_comp['delta']-=np.mean(temp.loc[cen_debv,'delta'])\n",
    "    dust_comp['mag']-=np.mean(temp.loc[cen_debv,'mag'])\n",
    "    dust_comp['col']-=np.mean(temp.loc[cen_debv,'col'])\n",
    "    \n",
    "    return(dust_comp,md,mm,mc)"
   ]
  },
  {
   "cell_type": "markdown",
   "metadata": {},
   "source": [
    "## Map recovery"
   ]
  },
  {
   "cell_type": "code",
   "execution_count": null,
   "metadata": {},
   "outputs": [],
   "source": [
    "def map_recovery(ns,dust_table,pixel_data,zrange=[[0.0,0.3],[0.3,0.6],[0.6,0.9],[0.9,1.2],[1.2,2.5]]):\n",
    "    nside_key=f'n{ns}'\n",
    "    Debv,ebv_from_delta,ebv_from_mag,ebv_from_col=[],[],[],[]\n",
    "    EBV_recovery,z_label=[],[]\n",
    "    EBV_input=pixel_data[f'{nside_key}_EBV']\n",
    "    for j in range(len(zrange)):\n",
    "        zr=zrange[j]\n",
    "        z_label.append(f'$z_{{{np.sum(zr)/2:.2f}}}$')\n",
    "        z_key=f'z{np.sum(zr)/2:.2f}'.replace('.','')\n",
    "        \n",
    "        ####################\n",
    "        # Delta calc\n",
    "        ####################\n",
    "        delta=pixel_data[f'{nside_key}_{z_key}_count']+np.random.uniform(-0.5,0.5,len(pixel_data))\n",
    "        pixel_data[f'{nside_key}_{z_key}_delta']=np.log10(delta/np.mean(delta))\n",
    "        \n",
    "        ####################\n",
    "        # Read dust vector\n",
    "        ####################\n",
    "        dust_vector=dust_table[z_key]\n",
    "        dust_vector,ebv2d,ebv2m,ebv2c=slope_func(dust_vector,np.array(pixel_data[f'{nside_key}_EBV']))\n",
    "        \n",
    "        Debv.append(pixel_data[f'{nside_key}_EBV']-np.median(pixel_data[f'{nside_key}_EBV']))\n",
    "        ebv_from_delta.append((pixel_data[f'{nside_key}_{z_key}_delta']-np.median(pixel_data[f'{nside_key}_{z_key}_delta']))/ebv2d)\n",
    "        ebv_from_mag.append((pixel_data[f'{nside_key}_{z_key}_mag']-np.median(pixel_data[f'{nside_key}_{z_key}_mag']))/ebv2m)\n",
    "        ebv_from_col.append((pixel_data[f'{nside_key}_{z_key}_col']-np.median(pixel_data[f'{nside_key}_{z_key}_col']))/ebv2c)\n",
    "        \n",
    "        spl_delta=interp.UnivariateSpline(dust_vector['deltaEBV'],dust_vector['delta'],ext=0)\n",
    "        spl_mag=interp.UnivariateSpline(dust_vector['deltaEBV'],dust_vector['mag'],ext=0)\n",
    "        spl_col=interp.UnivariateSpline(dust_vector['deltaEBV'],dust_vector['col'],ext=0)\n",
    "        \n",
    "        def dist(val,D,M,C):\n",
    "            dd=spl_delta(val)\n",
    "            mm=spl_mag(val)\n",
    "            cc=spl_col(val)\n",
    "            return(((D-dd/ebv2d)**2+(M-mm/ebv2m)**2+(C-cc/ebv2c)**2)**0.5)\n",
    "        \n",
    "        ebv_recover=np.zeros(len(ebv_from_delta[j]))\n",
    "        for k in range(len(ebv_from_delta[j])):\n",
    "            ebv_recover[k]=opti.minimize(dist,x0=0.0,args=(ebv_from_delta[j][k],ebv_from_mag[j][k],ebv_from_col[j][k])).x\n",
    "        \n",
    "        EBV_recovery.append(ebv_recover+np.median(EBV_input))\n",
    "    \n",
    "    EBV_final=np.array(EBV_recovery)\n",
    "    EBV_final=np.average(EBV_final,axis=0,weights=1/np.var(EBV_final,axis=1))\n",
    "    return({'input_map':EBV_input,'input_map_relative':Debv,'output_map_delta':ebv_from_delta,'output_map_mag':ebv_from_mag,\n",
    "            'output_map_col':ebv_from_col,'output_map_combined':EBV_recovery,'output_map':EBV_final})"
   ]
  },
  {
   "cell_type": "markdown",
   "metadata": {},
   "source": [
    "# Reading data in"
   ]
  },
  {
   "cell_type": "code",
   "execution_count": null,
   "metadata": {},
   "outputs": [],
   "source": [
    "dust_GAL_r248={f'z{f.split(\"_z\")[1][:-4]}':pd.read_csv(f) for f in sorted(glob.glob('../MW_results/MWdust_data/dust_vector_GALFORM_z*.csv'))}\n",
    "dust_Buz_r248={f'z{f.split(\"_z\")[1][:-4]}':pd.read_csv(f) for f in sorted(glob.glob('../MW_results/MWdust_data/dust_vector_Buzzard_z*.csv'))}\n",
    "#dust_Buz_r260={f'z{f.split(\"_z\")[1][:-4]}':pd.read_csv(f) for f in sorted(glob.glob('../MW_results/MWdust_data/dust_vector_Buzzard_Deep_z*.csv'))}               "
   ]
  },
  {
   "cell_type": "code",
   "execution_count": null,
   "metadata": {},
   "outputs": [],
   "source": [
    "pix_GAL_r248_n6=pd.concat([pd.read_csv(f) for f in sorted(glob.glob('../MW_results/MWdust_data/pixel_n6_GALFORM_*.csv'))],ignore_index=True)\n",
    "pix_GAL_r248_n9=pd.concat([pd.read_csv(f) for f in sorted(glob.glob('../MW_results/MWdust_data/pixel_n9_GALFORM_*.csv'))],ignore_index=True)\n",
    "pix_Buz_r248_n6=pd.concat([pd.read_csv(f) for f in sorted(glob.glob('../MW_results/MWdust_data/pixel_n6_Buzzard_*.csv'))],ignore_index=True)\n",
    "pix_Buz_r248_n9=pd.concat([pd.read_csv(f) for f in sorted(glob.glob('../MW_results/MWdust_data/pixel_n9_Buzzard_*.csv'))],ignore_index=True)\n",
    "#pix_Buz_r260_n6=pd.concat([pd.read_csv(f) for f in sorted(glob.glob('../MW_results/MWdust_data/pixel_n6_Buzzard_Deep_*.csv'))],ignore_index=True)\n",
    "#pix_Buz_r260_n9=pd.concat([pd.read_csv(f) for f in sorted(glob.glob('../MW_results/MWdust_data/pixel_n9_Buzzard_Deep_*.csv'))],ignore_index=True)"
   ]
  },
  {
   "cell_type": "markdown",
   "metadata": {},
   "source": [
    "# Recovering dust maps"
   ]
  },
  {
   "cell_type": "markdown",
   "metadata": {},
   "source": [
    "## $\\mathrm{nside} = 2^6$"
   ]
  },
  {
   "cell_type": "code",
   "execution_count": null,
   "metadata": {
    "scrolled": false
   },
   "outputs": [],
   "source": [
    "map_GAL_r248_n6=map_recovery(6,dust_GAL_r248,pix_GAL_r248_n6)\n",
    "map_Buz_r248_n6=map_recovery(6,dust_Buz_r248,pix_Buz_r248_n6)\n",
    "#map_Buz_r260_n6=map_recovery(6,dust_Buz_r260,pix_Buz_r260_n6)"
   ]
  },
  {
   "cell_type": "code",
   "execution_count": null,
   "metadata": {},
   "outputs": [],
   "source": [
    "col_map=cm.get_cmap(cmo.cm.haline)\n",
    "\n",
    "fig=plot.figure(figsize=new_fig_size*2)\n",
    "spec=gs.GridSpec(nrows=2,ncols=3,figure=fig,wspace=0,hspace=0,left=0.07,right=0.98,bottom=0.07,top=0.95)\n",
    "fax=[[fig.add_subplot(spec[0,0]),fig.add_subplot(spec[0,1]),fig.add_subplot(spec[0,2])],\n",
    "     [fig.add_subplot(spec[1,0]),fig.add_subplot(spec[1,1]),fig.add_subplot(spec[1,2])]]\n",
    "temp=fax[0][1].get_yaxis().set_ticklabels([])\n",
    "temp=fax[0][2].get_yaxis().set_ticklabels([])\n",
    "temp=fax[0][0].get_xaxis().set_ticklabels([])\n",
    "temp=fax[0][1].get_xaxis().set_ticklabels([])\n",
    "temp=fax[0][2].get_xaxis().set_ticklabels([])\n",
    "temp=fax[1][1].get_yaxis().set_ticklabels([])\n",
    "temp=fax[1][2].get_yaxis().set_ticklabels([])\n",
    "for i in range(2):\n",
    "    for j in range(3):\n",
    "        temp=fax[i][j].get_yaxis().set_ticks([0,0.04,0.08,0.12,0.16,0.2])\n",
    "        temp=fax[i][j].get_xaxis().set_ticks([0.04,0.08,0.12,0.16,0.2])\n",
    "        fax[i][j].set_rasterized(True)\n",
    "\n",
    "#GALFORM\n",
    "fax[0][0].set_title('GALFORM$_{r<24.8}$')\n",
    "L=len(map_GAL_r248_n6['output_map_combined'])\n",
    "for i in range(L):\n",
    "    sp.scatter(map_GAL_r248_n6['input_map'],map_GAL_r248_n6['output_map_combined'][i],ax=fax[0][0],xlim=[0,0.2],ylim=[-0.04,0.24],\n",
    "               c=np.array([col_map(1.0*i/(L-0.8))]),ylabel='$E(B-V)_\\mathrm{recovered}$ [mag]')\n",
    "sp.axline(a=1,c='k',linestyle='dashed',ax=fax[0][0])\n",
    "sp.scatter(map_GAL_r248_n6['input_map'],map_GAL_r248_n6['output_map'],ax=fax[1][0],xlim=[0,0.2],ylim=[-0.04,0.24],\n",
    "           xlabel='$E(B-V)_\\mathrm{input}$ [mag]',ylabel='$E(B-V)_\\mathrm{recovered}$ [mag]',marker='d')\n",
    "sp.axline(a=1,c='k',linestyle='dashed',ax=fax[1][0])\n",
    "\n",
    "#Buzzard\n",
    "fax[0][1].set_title('Buzzard$_{r<24.8}$')\n",
    "for i in range(L):\n",
    "    sp.scatter(map_Buz_r248_n6['input_map'],map_Buz_r248_n6['output_map_combined'][i],ax=fax[0][1],xlim=[0,0.2],ylim=[-0.04,0.24],\n",
    "               c=np.array([col_map(1.0*i/(L-0.8))]))\n",
    "sp.axline(a=1,c='k',linestyle='dashed',ax=fax[0][1])\n",
    "sp.scatter(map_Buz_r248_n6['input_map'],map_Buz_r248_n6['output_map'],ax=fax[1][1],xlim=[0,0.2],ylim=[-0.04,0.24],\n",
    "           xlabel='$E(B-V)_\\mathrm{input}$ [mag]',marker='d')\n",
    "sp.axline(a=1,c='k',linestyle='dashed',ax=fax[1][1])\n",
    "\n",
    "#Buzzard deep\n",
    "fax[0][2].set_title('Buzzard$_{r<26.0}$')\n",
    "for i in range(L):\n",
    "    sp.scatter(map_Buz_r248_n6['input_map'],map_Buz_r248_n6['output_map_combined'][i],ax=fax[0][2],xlim=[0,0.2],ylim=[-0.04,0.24],\n",
    "               c=np.array([col_map(1.0*i/(L-0.8))]))\n",
    "sp.axline(a=1,c='k',linestyle='dashed',ax=fax[0][2])\n",
    "sp.scatter(map_Buz_r248_n6['input_map'],map_Buz_r248_n6['output_map'],ax=fax[1][2],xlim=[0,0.2],ylim=[-0.04,0.24],\n",
    "           xlabel='$E(B-V)_\\mathrm{input}$ [mag]',marker='d')\n",
    "sp.axline(a=1,c='k',linestyle='dashed',ax=fax[1][2])\n",
    "\n",
    "#Legend\n",
    "fax[1][0].legend([lines.Line2D([0.5],[0.5],linestyle='',marker='o',color=col_map(0.0/(L-0.8))),\n",
    "                  lines.Line2D([0.5],[0.5],linestyle='',marker='o',color=col_map(1.0/(L-0.8))),\n",
    "                  lines.Line2D([0.5],[0.5],linestyle='',marker='o',color=col_map(2.0/(L-0.8))),\n",
    "                  lines.Line2D([0.5],[0.5],linestyle='',marker='o',color=col_map(3.0/(L-0.8))),\n",
    "                  lines.Line2D([0.5],[0.5],linestyle='',marker='o',color=col_map(4.0/(L-0.8))),\n",
    "                  lines.Line2D([0.5],[0.5],linestyle='',marker='d',color='C0'),\n",
    "                  lines.Line2D([0,1],[0,1],color='k',linestyle='dashed')],\n",
    "                 ['$z_{0.0,0.3}$','$z_{0.3,0.6}$','$z_{0.6,0.9}$','$z_{0.9,1.2}$','$z_{1.2,2.5}$','final','1:1'],\n",
    "                 fontsize=17,loc=2)\n",
    "\n",
    "plot.savefig('../MW_results/map_recovery_n6.pdf')\n",
    "plot.show()"
   ]
  },
  {
   "cell_type": "markdown",
   "metadata": {},
   "source": [
    "## $\\mathrm{nside} = 2^9$"
   ]
  },
  {
   "cell_type": "code",
   "execution_count": null,
   "metadata": {},
   "outputs": [],
   "source": [
    "map_GAL_r248_n9=map_recovery(9,dust_GAL_r248,pix_GAL_r248_n9)\n",
    "map_Buz_r248_n9=map_recovery(9,dust_Buz_r248,pix_Buz_r248_n9)\n",
    "#map_Buz_r260_n9=map_recovery(9,dust_Buz_r260,pix_Buz_r260_n9)"
   ]
  },
  {
   "cell_type": "code",
   "execution_count": null,
   "metadata": {},
   "outputs": [],
   "source": [
    "col_map=cm.get_cmap(cmo.cm.haline)\n",
    "\n",
    "fig=plot.figure(figsize=new_fig_size*2)\n",
    "spec=gs.GridSpec(nrows=2,ncols=3,figure=fig,wspace=0,hspace=0,left=0.07,right=0.98,bottom=0.07,top=0.95)\n",
    "fax=[[fig.add_subplot(spec[0,0]),fig.add_subplot(spec[0,1]),fig.add_subplot(spec[0,2])],\n",
    "     [fig.add_subplot(spec[1,0]),fig.add_subplot(spec[1,1]),fig.add_subplot(spec[1,2])]]\n",
    "temp=fax[0][1].get_yaxis().set_ticklabels([])\n",
    "temp=fax[0][2].get_yaxis().set_ticklabels([])\n",
    "temp=fax[0][0].get_xaxis().set_ticklabels([])\n",
    "temp=fax[0][1].get_xaxis().set_ticklabels([])\n",
    "temp=fax[0][2].get_xaxis().set_ticklabels([])\n",
    "temp=fax[1][1].get_yaxis().set_ticklabels([])\n",
    "temp=fax[1][2].get_yaxis().set_ticklabels([])\n",
    "for i in range(2):\n",
    "    for j in range(3):\n",
    "        temp=fax[i][j].get_yaxis().set_ticks([-0.16,-0.08,0,0.08,0.16,0.24,0.32])\n",
    "        temp=fax[i][j].get_xaxis().set_ticks([0.04,0.08,0.12,0.16,0.2])\n",
    "        fax[i][j].set_rasterized(True)\n",
    "\n",
    "#GALFORM\n",
    "fax[0][0].set_title('GALFORM$_{r<24.8}$')\n",
    "L=len(map_GAL_r248_n9['output_map_combined'])\n",
    "for i in range(L):\n",
    "    sp.scatter(map_GAL_r248_n9['input_map'],map_GAL_r248_n9['output_map_combined'][i],ax=fax[0][0],xlim=[0,0.2],ylim=[-0.2,0.4],s=4,\n",
    "               c=np.array([col_map(1.0*i/(L-0.8))]),ylabel='$E(B-V)_\\mathrm{recovered}$ [mag]',alpha=0.5)\n",
    "sp.axline(a=1,c='k',linestyle='dashed',ax=fax[0][0])\n",
    "sp.scatter(map_GAL_r248_n9['input_map'],map_GAL_r248_n9['output_map'],ax=fax[1][0],xlim=[0,0.2],ylim=[-0.1,0.3],\n",
    "           xlabel='$E(B-V)_\\mathrm{input}$ [mag]',ylabel='$E(B-V)_\\mathrm{recovered}$ [mag]',s=4,marker='d',alpha=0.5)\n",
    "sp.axline(a=1,c='k',linestyle='dashed',ax=fax[1][0])\n",
    "\n",
    "#Buzzard\n",
    "fax[0][1].set_title('Buzzard$_{r<24.8}$')\n",
    "for i in range(L):\n",
    "    sp.scatter(map_Buz_r248_n9['input_map'],map_Buz_r248_n9['output_map_combined'][i],ax=fax[0][1],xlim=[0,0.2],ylim=[-0.2,0.4],s=4,\n",
    "               c=np.array([col_map(1.0*i/(L-0.8))]),alpha=0.5)\n",
    "sp.axline(a=1,c='k',linestyle='dashed',ax=fax[0][1])\n",
    "sp.scatter(map_Buz_r248_n9['input_map'],map_Buz_r248_n9['output_map'],ax=fax[1][1],xlim=[0,0.2],ylim=[-0.1,0.3],\n",
    "           xlabel='$E(B-V)_\\mathrm{input}$ [mag]',s=4,marker='d',alpha=0.5)\n",
    "sp.axline(a=1,c='k',linestyle='dashed',ax=fax[1][1])\n",
    "\n",
    "#Buzzard deep\n",
    "fax[0][2].set_title('Buzzard$_{r<26.0}$')\n",
    "for i in range(L):\n",
    "    sp.scatter(map_Buz_r248_n9['input_map'],map_Buz_r248_n9['output_map_combined'][i],ax=fax[0][2],xlim=[0,0.2],ylim=[-0.2,0.4],s=4,\n",
    "               c=np.array([col_map(1.0*i/(L-0.8))]),alpha=0.5)\n",
    "sp.axline(a=1,c='k',linestyle='dashed',ax=fax[0][2])\n",
    "sp.scatter(map_Buz_r248_n9['input_map'],map_Buz_r248_n9['output_map'],ax=fax[1][2],xlim=[0,0.2],ylim=[-0.1,0.3],\n",
    "           xlabel='$E(B-V)_\\mathrm{input}$ [mag]',s=4,marker='d',alpha=0.5)\n",
    "sp.axline(a=1,c='k',linestyle='dashed',ax=fax[1][2])\n",
    "\n",
    "#Legend\n",
    "fax[1][0].legend([lines.Line2D([0.5],[0.5],linestyle='',marker='o',color=col_map(0.0/(L-0.8))),\n",
    "                  lines.Line2D([0.5],[0.5],linestyle='',marker='o',color=col_map(1.0/(L-0.8))),\n",
    "                  lines.Line2D([0.5],[0.5],linestyle='',marker='o',color=col_map(2.0/(L-0.8))),\n",
    "                  lines.Line2D([0.5],[0.5],linestyle='',marker='o',color=col_map(3.0/(L-0.8))),\n",
    "                  lines.Line2D([0.5],[0.5],linestyle='',marker='o',color=col_map(4.0/(L-0.8))),\n",
    "                  lines.Line2D([0.5],[0.5],linestyle='',marker='d',color='C0'),\n",
    "                  lines.Line2D([0,1],[0,1],color='k',linestyle='dashed')],\n",
    "                 ['$z_{0.0,0.3}$','$z_{0.3,0.6}$','$z_{0.6,0.9}$','$z_{0.9,1.2}$','$z_{1.2,2.5}$','final','1:1'],\n",
    "                 fontsize=17,loc=2)\n",
    "\n",
    "plot.savefig('../MW_results/map_recovery_n9.pdf')\n",
    "plot.show()"
   ]
  },
  {
   "cell_type": "code",
   "execution_count": null,
   "metadata": {},
   "outputs": [],
   "source": []
  },
  {
   "cell_type": "code",
   "execution_count": null,
   "metadata": {},
   "outputs": [],
   "source": []
  },
  {
   "cell_type": "code",
   "execution_count": null,
   "metadata": {},
   "outputs": [],
   "source": []
  },
  {
   "cell_type": "code",
   "execution_count": null,
   "metadata": {},
   "outputs": [],
   "source": []
  }
 ],
 "metadata": {
  "kernelspec": {
   "display_name": "Python 3",
   "language": "python",
   "name": "python3"
  },
  "language_info": {
   "codemirror_mode": {
    "name": "ipython",
    "version": 3
   },
   "file_extension": ".py",
   "mimetype": "text/x-python",
   "name": "python",
   "nbconvert_exporter": "python",
   "pygments_lexer": "ipython3",
   "version": "3.7.4"
  }
 },
 "nbformat": 4,
 "nbformat_minor": 2
}
